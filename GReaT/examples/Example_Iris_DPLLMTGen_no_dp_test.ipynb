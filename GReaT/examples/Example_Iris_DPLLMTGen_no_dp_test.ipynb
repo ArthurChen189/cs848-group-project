{
 "cells": [
  {
   "cell_type": "markdown",
   "id": "245418c1",
   "metadata": {},
   "source": [
    "## GReaT Example with Iris Dataset"
   ]
  },
  {
   "cell_type": "code",
   "execution_count": 1,
   "id": "ab1f4da7-4b93-4055-8d56-6030c7498999",
   "metadata": {},
   "outputs": [],
   "source": [
    "# # Execute only once!\n",
    "# import os\n",
    "# import sys\n",
    "# sys.path.append(\"..\")\n",
    "# os.chdir(\"..\")\n",
    "\n",
    "# os.environ[\"CUDA_VISIBLE_DEVICES\"]=\"1\""
   ]
  },
  {
   "cell_type": "code",
   "execution_count": 2,
   "id": "4b15988b",
   "metadata": {},
   "outputs": [
    {
     "data": {
      "text/plain": [
       "['/home/qfyan/FedFetch/be_great',\n",
       " '/usr/lib/python310.zip',\n",
       " '/usr/lib/python3.10',\n",
       " '/usr/lib/python3.10/lib-dynload',\n",
       " '',\n",
       " '/home/qfyan/FedFetch/ENV/lib/python3.10/site-packages']"
      ]
     },
     "execution_count": 2,
     "metadata": {},
     "output_type": "execute_result"
    }
   ],
   "source": [
    "import os\n",
    "import sys\n",
    "sys.path.insert(0, \"/home/qfyan/FedFetch/be_great\")\n",
    "# sys.path.insert(0, os.path.abspath(\"~/cs848-group-project/be_great\"))\n",
    "# sys.path.insert(0, os.path.abspath(os.path.join(os.path.dirname(\"~/cs848-group-project/be_great/examples/Example_Iris.ipynb\"), '..')))\n",
    "# sys.path.insert(0, os.path.abspath(os.path.join(os.path.dirname(\"~/cs848-group-project/be_great/examples\"))))\n",
    "os.environ[\"WANDB_DISABLED\"] = \"true\"\n",
    "sys.path\n"
   ]
  },
  {
   "cell_type": "code",
   "execution_count": 3,
   "id": "b5009b62",
   "metadata": {},
   "outputs": [],
   "source": [
    "import numpy as np\n",
    "import pandas as pd\n",
    "import logging\n",
    "from sklearn import datasets"
   ]
  },
  {
   "cell_type": "code",
   "execution_count": 4,
   "id": "71836c07-2530-44af-9b4b-cf72aff34426",
   "metadata": {},
   "outputs": [],
   "source": [
    "from utils import set_logging_level\n"
   ]
  },
  {
   "cell_type": "code",
   "execution_count": 5,
   "id": "00695066",
   "metadata": {},
   "outputs": [],
   "source": [
    "import matplotlib.pyplot as plt"
   ]
  },
  {
   "cell_type": "code",
   "execution_count": 6,
   "id": "39088828",
   "metadata": {},
   "outputs": [],
   "source": [
    "logger = set_logging_level(logging.INFO)"
   ]
  },
  {
   "cell_type": "markdown",
   "id": "937c8223",
   "metadata": {},
   "source": [
    "### Load Data"
   ]
  },
  {
   "cell_type": "code",
   "execution_count": 7,
   "id": "9b77f31e",
   "metadata": {},
   "outputs": [
    {
     "data": {
      "text/html": [
       "<div>\n",
       "<style scoped>\n",
       "    .dataframe tbody tr th:only-of-type {\n",
       "        vertical-align: middle;\n",
       "    }\n",
       "\n",
       "    .dataframe tbody tr th {\n",
       "        vertical-align: top;\n",
       "    }\n",
       "\n",
       "    .dataframe thead th {\n",
       "        text-align: right;\n",
       "    }\n",
       "</style>\n",
       "<table border=\"1\" class=\"dataframe\">\n",
       "  <thead>\n",
       "    <tr style=\"text-align: right;\">\n",
       "      <th></th>\n",
       "      <th>sepal length (cm)</th>\n",
       "      <th>sepal width (cm)</th>\n",
       "      <th>petal length (cm)</th>\n",
       "      <th>petal width (cm)</th>\n",
       "      <th>target</th>\n",
       "    </tr>\n",
       "  </thead>\n",
       "  <tbody>\n",
       "    <tr>\n",
       "      <th>0</th>\n",
       "      <td>5.1</td>\n",
       "      <td>3.5</td>\n",
       "      <td>1.4</td>\n",
       "      <td>0.2</td>\n",
       "      <td>0</td>\n",
       "    </tr>\n",
       "    <tr>\n",
       "      <th>1</th>\n",
       "      <td>4.9</td>\n",
       "      <td>3.0</td>\n",
       "      <td>1.4</td>\n",
       "      <td>0.2</td>\n",
       "      <td>0</td>\n",
       "    </tr>\n",
       "    <tr>\n",
       "      <th>2</th>\n",
       "      <td>4.7</td>\n",
       "      <td>3.2</td>\n",
       "      <td>1.3</td>\n",
       "      <td>0.2</td>\n",
       "      <td>0</td>\n",
       "    </tr>\n",
       "    <tr>\n",
       "      <th>3</th>\n",
       "      <td>4.6</td>\n",
       "      <td>3.1</td>\n",
       "      <td>1.5</td>\n",
       "      <td>0.2</td>\n",
       "      <td>0</td>\n",
       "    </tr>\n",
       "    <tr>\n",
       "      <th>4</th>\n",
       "      <td>5.0</td>\n",
       "      <td>3.6</td>\n",
       "      <td>1.4</td>\n",
       "      <td>0.2</td>\n",
       "      <td>0</td>\n",
       "    </tr>\n",
       "  </tbody>\n",
       "</table>\n",
       "</div>"
      ],
      "text/plain": [
       "   sepal length (cm)  sepal width (cm)  petal length (cm)  petal width (cm)  \\\n",
       "0                5.1               3.5                1.4               0.2   \n",
       "1                4.9               3.0                1.4               0.2   \n",
       "2                4.7               3.2                1.3               0.2   \n",
       "3                4.6               3.1                1.5               0.2   \n",
       "4                5.0               3.6                1.4               0.2   \n",
       "\n",
       "   target  \n",
       "0       0  \n",
       "1       0  \n",
       "2       0  \n",
       "3       0  \n",
       "4       0  "
      ]
     },
     "execution_count": 7,
     "metadata": {},
     "output_type": "execute_result"
    }
   ],
   "source": [
    "data = datasets.load_iris(as_frame=True).frame\n",
    "data.head()"
   ]
  },
  {
   "cell_type": "code",
   "execution_count": 8,
   "id": "5d99184c",
   "metadata": {},
   "outputs": [],
   "source": [
    "data.columns = [\"sepal length\", \"sepal width\", \"petal length\", \"petal width\", \"target\"]"
   ]
  },
  {
   "cell_type": "markdown",
   "id": "5911b9b1",
   "metadata": {},
   "source": [
    "### Create GReaT Model"
   ]
  },
  {
   "cell_type": "code",
   "execution_count": null,
   "id": "1a316696",
   "metadata": {},
   "outputs": [
    {
     "name": "stderr",
     "output_type": "stream",
     "text": [
      "/home/qfyan/FedFetch/ENV/lib/python3.10/site-packages/tqdm/auto.py:21: TqdmWarning: IProgress not found. Please update jupyter and ipywidgets. See https://ipywidgets.readthedocs.io/en/stable/user_install.html\n",
      "  from .autonotebook import tqdm as notebook_tqdm\n",
      "\u001b[39;20m2024-11-30 20:52:29,221 - INFO - PyTorch version 2.5.1+cu121 available. (config.py:54)\u001b[0m\n",
      "`low_cpu_mem_usage` was None, now default to True since model is quantized.\n",
      "Loading checkpoint shards: 100%|██████████| 2/2 [00:01<00:00,  1.32it/s]\n",
      "/home/qfyan/FedFetch/ENV/lib/python3.10/site-packages/peft/utils/other.py:145: FutureWarning: prepare_model_for_int8_training is deprecated and will be removed in a future version. Use prepare_model_for_kbit_training instead.\n",
      "  warnings.warn(\n"
     ]
    },
    {
     "name": "stdout",
     "output_type": "stream",
     "text": [
      "trainable params: 39,976,960 || all params: 6,778,392,576 || trainable%: 0.589770503135875\n"
     ]
    }
   ],
   "source": [
    "from be_great.great import GReaT\n",
    "from be_great.dp import DPLLMTGen\n",
    "\n",
    "\n",
    "# great = GReaT(\"meta-llama/Llama-2-7b-chat-hf\",  # Name of the large language model used (see HuggingFace for more options)\n",
    "#               epochs=20,                   # Number of epochs to train\n",
    "#             #   save_steps=2000,               # Save model weights every x steps\n",
    "#               logging_steps=20,             # Log the loss and learning rate every x steps\n",
    "#               experiment_dir=\"trainer_great\", # Name of the directory where all intermediate steps are saved\n",
    "#               batch_size=16,                 # Batch Size\n",
    "#               #lr_scheduler_type=\"constant\", # Specify the learning rate scheduler \n",
    "#               learning_rate=4e-5,            # Set the inital learning rate\n",
    "#               efficient_finetuning=\"lora\",\n",
    "#              )\n",
    "\n",
    "# great = DPLLMTGen(\n",
    "#     \"gpt2\",\n",
    "#     # epochs=1000,\n",
    "#     # save_steps=2000,\n",
    "#     logging_steps=50,\n",
    "#     experiment_dir=\"trainer_iris_dpllmtgen_test\",\n",
    "#     batch_size=16,                 # Batch Size\n",
    "#     # lr_scheduler_type=\"constant\", # Specify the learning rate scheduler \n",
    "#     stage1_epochs = 75,\n",
    "#     stage2_epochs = 600,\n",
    "#     stage1_lr =1e-4,\n",
    "#     stage2_lr=1e-5,\n",
    "#     loss_alpha=0.65,\n",
    "#     loss_beta=0.1,\n",
    "#     loss_lmbda=1.0,\n",
    "#     per_sample_max_grad_norm=3., \n",
    "#     target_epsilon=10., \n",
    "#     # efficient_finetuning=\"lora\"\n",
    "# )\n",
    "\n",
    "great = DPLLMTGen(\n",
    "    \"meta-llama/Llama-2-7b-chat-hf\",\n",
    "    # epochs=1000,\n",
    "    # save_steps=2000,\n",
    "    logging_steps=20,\n",
    "    experiment_dir=\"trainer_iris_dpllmtgen_test\",\n",
    "    batch_size=16,                 # Batch Size\n",
    "    # lr_scheduler_type=\"constant\", # Specify the learning rate scheduler \n",
    "    stage1_epochs = 10,\n",
    "    stage2_epochs = 20,\n",
    "    stage1_lr =1e-5,\n",
    "    stage2_lr=1e-5,\n",
    "    loss_alpha=0.65,\n",
    "    loss_beta=0.1,\n",
    "    loss_lmbda=1.0,\n",
    "    per_sample_max_grad_norm=1., \n",
    "    target_epsilon=10., \n",
    "    efficient_finetuning=\"lora\",\n",
    "    use_dp=False\n",
    ")\n",
    "\n",
    "# from be_great.dp_basic import DPBasic\n",
    "# great = DPBasic(\"distilgpt2\",                  # Name of the large language model used (see HuggingFace for more options)\n",
    "#               epochs=1,                   # Number of epochs to train\n",
    "#               save_steps=2000,               # Save model weights every x steps\n",
    "#               logging_steps=100,             # Log the loss and learning rate every x steps\n",
    "#               experiment_dir=\"trainer_iris_basic_dp_test\", # Name of the directory where all intermediate steps are saved\n",
    "#               batch_size=8,                 # Batch Size\n",
    "#               per_sample_max_grad_norm=1.0,\n",
    "#               target_epsilon=3.0,\n",
    "#               #lr_scheduler_type=\"constant\", # Specify the learning rate scheduler \n",
    "#               #learning_rate=4e-5            # Set the inital learning rate\n",
    "#               #efficient_finetuning=\"lora\",\n",
    "#               save_safetensors=False\n",
    "#              )"
   ]
  },
  {
   "cell_type": "markdown",
   "id": "3c7b173f",
   "metadata": {},
   "source": [
    "### Start Training"
   ]
  },
  {
   "cell_type": "code",
   "execution_count": 10,
   "id": "200e000c",
   "metadata": {
    "scrolled": true
   },
   "outputs": [
    {
     "name": "stderr",
     "output_type": "stream",
     "text": [
      "\u001b[39;20m2024-11-30 20:52:32,449 - INFO - Convert data into HuggingFace dataset object... (dp.py:91)\u001b[0m\n",
      "\u001b[39;20m2024-11-30 20:52:32,453 - INFO - Create GReaT Trainer... (dp.py:96)\u001b[0m\n",
      "Using the `WANDB_DISABLED` environment variable is deprecated and will be removed in v5. Use the --report_to flag to control the integrations used for logging result (for instance --report_to none).\n",
      "/home/qfyan/FedFetch/be_great/be_great/dp/dp.py:104: FutureWarning: `tokenizer` is deprecated and will be removed in version 5.0.0 for `GReaTTrainer.__init__`. Use `processing_class` instead.\n",
      "  great_trainer = GReaTTrainer(\n",
      "\u001b[39;20m2024-11-30 20:52:32,468 - INFO - Start format learning... (dp.py:113)\u001b[0m\n",
      "You're using a LlamaTokenizerFast tokenizer. Please note that with a fast tokenizer, using the `__call__` method is faster than using a method to encode the text followed by a call to the `pad` method to get a padded encoding.\n",
      "`use_cache=True` is incompatible with gradient checkpointing. Setting `use_cache=False`.\n",
      "/home/qfyan/FedFetch/ENV/lib/python3.10/site-packages/torch/_dynamo/eval_frame.py:632: UserWarning: torch.utils.checkpoint: the use_reentrant parameter should be passed explicitly. In version 2.5 we will raise an exception if use_reentrant is not passed. use_reentrant=False is recommended, but if you need to preserve the current default behavior, you can pass use_reentrant=True. Refer to docs for more details on the differences between the two variants.\n",
      "  return fn(*args, **kwargs)\n",
      "/home/qfyan/FedFetch/ENV/lib/python3.10/site-packages/bitsandbytes/autograd/_functions.py:316: UserWarning: MatMul8bitLt: inputs will be cast from torch.float32 to float16 during quantization\n",
      "  warnings.warn(f\"MatMul8bitLt: inputs will be cast from {A.dtype} to float16 during quantization\")\n",
      "The input hidden states seems to be silently casted in float32, this might be related to the fact you have upcasted embedding or layer norm layers in float32. We will cast back the input in torch.float16.\n"
     ]
    },
    {
     "data": {
      "text/html": [
       "\n",
       "    <div>\n",
       "      \n",
       "      <progress value='100' max='100' style='width:300px; height:20px; vertical-align: middle;'></progress>\n",
       "      [100/100 00:58, Epoch 10/10]\n",
       "    </div>\n",
       "    <table border=\"1\" class=\"dataframe\">\n",
       "  <thead>\n",
       " <tr style=\"text-align: left;\">\n",
       "      <th>Step</th>\n",
       "      <th>Training Loss</th>\n",
       "    </tr>\n",
       "  </thead>\n",
       "  <tbody>\n",
       "    <tr>\n",
       "      <td>20</td>\n",
       "      <td>1.807600</td>\n",
       "    </tr>\n",
       "    <tr>\n",
       "      <td>40</td>\n",
       "      <td>1.159800</td>\n",
       "    </tr>\n",
       "    <tr>\n",
       "      <td>60</td>\n",
       "      <td>0.898600</td>\n",
       "    </tr>\n",
       "    <tr>\n",
       "      <td>80</td>\n",
       "      <td>0.795000</td>\n",
       "    </tr>\n",
       "    <tr>\n",
       "      <td>100</td>\n",
       "      <td>0.745600</td>\n",
       "    </tr>\n",
       "  </tbody>\n",
       "</table><p>"
      ],
      "text/plain": [
       "<IPython.core.display.HTML object>"
      ]
     },
     "metadata": {},
     "output_type": "display_data"
    },
    {
     "name": "stderr",
     "output_type": "stream",
     "text": [
      "\u001b[39;20m2024-11-30 20:53:32,549 - INFO - Convert data into HuggingFace dataset object... (dp.py:120)\u001b[0m\n",
      "\u001b[39;20m2024-11-30 20:53:32,554 - INFO - Create GReaT Trainer... (dp.py:125)\u001b[0m\n",
      "Using the `WANDB_DISABLED` environment variable is deprecated and will be removed in v5. Use the --report_to flag to control the integrations used for logging result (for instance --report_to none).\n",
      "/home/qfyan/FedFetch/be_great/be_great/dp/no_dp_trainer.py:18: FutureWarning: `tokenizer` is deprecated and will be removed in version 5.0.0 for `DPLLMTGenTrainerNoDP.__init__`. Use `processing_class` instead.\n",
      "  super().__init__(**kwargs)\n",
      "Trainer.tokenizer is now deprecated. You should use `Trainer.processing_class = processing_class` instead.\n",
      "/home/qfyan/FedFetch/ENV/lib/python3.10/site-packages/torch/_dynamo/eval_frame.py:632: UserWarning: torch.utils.checkpoint: the use_reentrant parameter should be passed explicitly. In version 2.5 we will raise an exception if use_reentrant is not passed. use_reentrant=False is recommended, but if you need to preserve the current default behavior, you can pass use_reentrant=True. Refer to docs for more details on the differences between the two variants.\n",
      "  return fn(*args, **kwargs)\n",
      "/home/qfyan/FedFetch/ENV/lib/python3.10/site-packages/bitsandbytes/autograd/_functions.py:316: UserWarning: MatMul8bitLt: inputs will be cast from torch.float32 to float16 during quantization\n",
      "  warnings.warn(f\"MatMul8bitLt: inputs will be cast from {A.dtype} to float16 during quantization\")\n"
     ]
    },
    {
     "data": {
      "text/html": [
       "\n",
       "    <div>\n",
       "      \n",
       "      <progress value='200' max='200' style='width:300px; height:20px; vertical-align: middle;'></progress>\n",
       "      [200/200 01:59, Epoch 20/20]\n",
       "    </div>\n",
       "    <table border=\"1\" class=\"dataframe\">\n",
       "  <thead>\n",
       " <tr style=\"text-align: left;\">\n",
       "      <th>Step</th>\n",
       "      <th>Training Loss</th>\n",
       "    </tr>\n",
       "  </thead>\n",
       "  <tbody>\n",
       "    <tr>\n",
       "      <td>20</td>\n",
       "      <td>0.469100</td>\n",
       "    </tr>\n",
       "    <tr>\n",
       "      <td>40</td>\n",
       "      <td>0.415600</td>\n",
       "    </tr>\n",
       "    <tr>\n",
       "      <td>60</td>\n",
       "      <td>0.395400</td>\n",
       "    </tr>\n",
       "    <tr>\n",
       "      <td>80</td>\n",
       "      <td>0.384800</td>\n",
       "    </tr>\n",
       "    <tr>\n",
       "      <td>100</td>\n",
       "      <td>0.379000</td>\n",
       "    </tr>\n",
       "    <tr>\n",
       "      <td>120</td>\n",
       "      <td>0.371600</td>\n",
       "    </tr>\n",
       "    <tr>\n",
       "      <td>140</td>\n",
       "      <td>0.365100</td>\n",
       "    </tr>\n",
       "    <tr>\n",
       "      <td>160</td>\n",
       "      <td>0.363500</td>\n",
       "    </tr>\n",
       "    <tr>\n",
       "      <td>180</td>\n",
       "      <td>0.361400</td>\n",
       "    </tr>\n",
       "    <tr>\n",
       "      <td>200</td>\n",
       "      <td>0.362700</td>\n",
       "    </tr>\n",
       "  </tbody>\n",
       "</table><p>"
      ],
      "text/plain": [
       "<IPython.core.display.HTML object>"
      ]
     },
     "metadata": {},
     "output_type": "display_data"
    }
   ],
   "source": [
    "trainer = great.fit(data)"
   ]
  },
  {
   "cell_type": "code",
   "execution_count": 11,
   "id": "cfe8184d",
   "metadata": {},
   "outputs": [
    {
     "data": {
      "text/plain": [
       "[{'loss': 0.4338,\n",
       "  'grad_norm': 2.465620994567871,\n",
       "  'learning_rate': 9e-06,\n",
       "  'epoch': 2.0,\n",
       "  'step': 20},\n",
       " {'loss': 0.4022,\n",
       "  'grad_norm': 1.8822344541549683,\n",
       "  'learning_rate': 8.000000000000001e-06,\n",
       "  'epoch': 4.0,\n",
       "  'step': 40},\n",
       " {'loss': 0.3892,\n",
       "  'grad_norm': 1.7927281856536865,\n",
       "  'learning_rate': 7e-06,\n",
       "  'epoch': 6.0,\n",
       "  'step': 60},\n",
       " {'loss': 0.3796,\n",
       "  'grad_norm': 1.5968645811080933,\n",
       "  'learning_rate': 6e-06,\n",
       "  'epoch': 8.0,\n",
       "  'step': 80},\n",
       " {'loss': 0.3748,\n",
       "  'grad_norm': 1.6843212842941284,\n",
       "  'learning_rate': 5e-06,\n",
       "  'epoch': 10.0,\n",
       "  'step': 100},\n",
       " {'loss': 0.3691,\n",
       "  'grad_norm': 1.6386854648590088,\n",
       "  'learning_rate': 4.000000000000001e-06,\n",
       "  'epoch': 12.0,\n",
       "  'step': 120},\n",
       " {'loss': 0.3623,\n",
       "  'grad_norm': 1.82204008102417,\n",
       "  'learning_rate': 3e-06,\n",
       "  'epoch': 14.0,\n",
       "  'step': 140},\n",
       " {'loss': 0.3625,\n",
       "  'grad_norm': 2.5888991355895996,\n",
       "  'learning_rate': 2.0000000000000003e-06,\n",
       "  'epoch': 16.0,\n",
       "  'step': 160},\n",
       " {'loss': 0.3599,\n",
       "  'grad_norm': 1.86910879611969,\n",
       "  'learning_rate': 1.0000000000000002e-06,\n",
       "  'epoch': 18.0,\n",
       "  'step': 180},\n",
       " {'loss': 0.3612,\n",
       "  'grad_norm': 1.956001877784729,\n",
       "  'learning_rate': 0.0,\n",
       "  'epoch': 20.0,\n",
       "  'step': 200},\n",
       " {'train_runtime': 119.678,\n",
       "  'train_samples_per_second': 25.067,\n",
       "  'train_steps_per_second': 1.671,\n",
       "  'total_flos': 4905722585088000.0,\n",
       "  'train_loss': 0.3794563794136047,\n",
       "  'epoch': 20.0,\n",
       "  'step': 200}]"
      ]
     },
     "execution_count": 11,
     "metadata": {},
     "output_type": "execute_result"
    }
   ],
   "source": [
    "loss_hist = trainer.state.log_history.copy()\n",
    "loss_hist"
   ]
  },
  {
   "cell_type": "code",
   "execution_count": 12,
   "id": "76deeb9e",
   "metadata": {},
   "outputs": [],
   "source": [
    "loss = [x[\"loss\"] for x in loss_hist[:-1]]\n",
    "epochs = [x[\"epoch\"] for x in loss_hist[:-1]]"
   ]
  },
  {
   "cell_type": "code",
   "execution_count": 13,
   "id": "bcd7fc6f",
   "metadata": {},
   "outputs": [
    {
     "data": {
      "text/plain": [
       "[<matplotlib.lines.Line2D at 0x7c06d158ba00>]"
      ]
     },
     "execution_count": 13,
     "metadata": {},
     "output_type": "execute_result"
    },
    {
     "data": {
      "image/png": "[encoded data removed]",
      "text/plain": [
       "<Figure size 640x480 with 1 Axes>"
      ]
     },
     "metadata": {},
     "output_type": "display_data"
    }
   ],
   "source": [
    "plt.plot(epochs, loss)"
   ]
  },
  {
   "cell_type": "markdown",
   "id": "a0073ca9",
   "metadata": {},
   "source": [
    "### Save Model"
   ]
  },
  {
   "cell_type": "code",
   "execution_count": null,
   "id": "4ed119bf",
   "metadata": {},
   "outputs": [],
   "source": [
    "great.save(\"iris_dpllmtgen_test\")"
   ]
  },
  {
   "cell_type": "markdown",
   "id": "6076d7aa",
   "metadata": {},
   "source": [
    "### Load Model"
   ]
  },
  {
   "cell_type": "code",
   "execution_count": null,
   "id": "62d71bf2",
   "metadata": {},
   "outputs": [],
   "source": [
    "# great = GReaT.load_from_dir(\"iris\")"
   ]
  },
  {
   "cell_type": "markdown",
   "id": "fdb05fe0",
   "metadata": {},
   "source": [
    "### Generate Samples"
   ]
  },
  {
   "cell_type": "code",
   "execution_count": 11,
   "id": "4bb298ac",
   "metadata": {},
   "outputs": [],
   "source": [
    "n_samples = 150"
   ]
  },
  {
   "cell_type": "code",
   "execution_count": 12,
   "id": "2106b9f2",
   "metadata": {},
   "outputs": [
    {
     "name": "stderr",
     "output_type": "stream",
     "text": [
      "  0%|          | 0/150 [00:00<?, ?it/s]"
     ]
    },
    {
     "name": "stderr",
     "output_type": "stream",
     "text": [
      "/home/qfyan/FedFetch/ENV/lib/python3.10/site-packages/torch/_dynamo/eval_frame.py:632: UserWarning: torch.utils.checkpoint: the use_reentrant parameter should be passed explicitly. In version 2.5 we will raise an exception if use_reentrant is not passed. use_reentrant=False is recommended, but if you need to preserve the current default behavior, you can pass use_reentrant=True. Refer to docs for more details on the differences between the two variants.\n",
      "  return fn(*args, **kwargs)\n",
      "/home/qfyan/FedFetch/ENV/lib/python3.10/site-packages/bitsandbytes/autograd/_functions.py:316: UserWarning: MatMul8bitLt: inputs will be cast from torch.float32 to float16 during quantization\n",
      "  warnings.warn(f\"MatMul8bitLt: inputs will be cast from {A.dtype} to float16 during quantization\")\n",
      "/home/qfyan/FedFetch/ENV/lib/python3.10/site-packages/torch/utils/checkpoint.py:87: UserWarning: None of the inputs have requires_grad=True. Gradients will be None\n",
      "  warnings.warn(\n",
      " 29%|██▊       | 43/150 [00:46<01:54,  1.07s/it]/home/qfyan/FedFetch/ENV/lib/python3.10/site-packages/torch/_dynamo/eval_frame.py:632: UserWarning: torch.utils.checkpoint: the use_reentrant parameter should be passed explicitly. In version 2.5 we will raise an exception if use_reentrant is not passed. use_reentrant=False is recommended, but if you need to preserve the current default behavior, you can pass use_reentrant=True. Refer to docs for more details on the differences between the two variants.\n",
      "  return fn(*args, **kwargs)\n",
      "/home/qfyan/FedFetch/ENV/lib/python3.10/site-packages/bitsandbytes/autograd/_functions.py:316: UserWarning: MatMul8bitLt: inputs will be cast from torch.float32 to float16 during quantization\n",
      "  warnings.warn(f\"MatMul8bitLt: inputs will be cast from {A.dtype} to float16 during quantization\")\n",
      "/home/qfyan/FedFetch/ENV/lib/python3.10/site-packages/torch/utils/checkpoint.py:87: UserWarning: None of the inputs have requires_grad=True. Gradients will be None\n",
      "  warnings.warn(\n",
      " 58%|█████▊    | 87/150 [01:32<01:06,  1.06s/it]/home/qfyan/FedFetch/ENV/lib/python3.10/site-packages/torch/_dynamo/eval_frame.py:632: UserWarning: torch.utils.checkpoint: the use_reentrant parameter should be passed explicitly. In version 2.5 we will raise an exception if use_reentrant is not passed. use_reentrant=False is recommended, but if you need to preserve the current default behavior, you can pass use_reentrant=True. Refer to docs for more details on the differences between the two variants.\n",
      "  return fn(*args, **kwargs)\n",
      "/home/qfyan/FedFetch/ENV/lib/python3.10/site-packages/bitsandbytes/autograd/_functions.py:316: UserWarning: MatMul8bitLt: inputs will be cast from torch.float32 to float16 during quantization\n",
      "  warnings.warn(f\"MatMul8bitLt: inputs will be cast from {A.dtype} to float16 during quantization\")\n",
      "/home/qfyan/FedFetch/ENV/lib/python3.10/site-packages/torch/utils/checkpoint.py:87: UserWarning: None of the inputs have requires_grad=True. Gradients will be None\n",
      "  warnings.warn(\n",
      " 89%|████████▉ | 134/150 [02:17<00:16,  1.02s/it]/home/qfyan/FedFetch/ENV/lib/python3.10/site-packages/torch/_dynamo/eval_frame.py:632: UserWarning: torch.utils.checkpoint: the use_reentrant parameter should be passed explicitly. In version 2.5 we will raise an exception if use_reentrant is not passed. use_reentrant=False is recommended, but if you need to preserve the current default behavior, you can pass use_reentrant=True. Refer to docs for more details on the differences between the two variants.\n",
      "  return fn(*args, **kwargs)\n",
      "/home/qfyan/FedFetch/ENV/lib/python3.10/site-packages/bitsandbytes/autograd/_functions.py:316: UserWarning: MatMul8bitLt: inputs will be cast from torch.float32 to float16 during quantization\n",
      "  warnings.warn(f\"MatMul8bitLt: inputs will be cast from {A.dtype} to float16 during quantization\")\n",
      "/home/qfyan/FedFetch/ENV/lib/python3.10/site-packages/torch/utils/checkpoint.py:87: UserWarning: None of the inputs have requires_grad=True. Gradients will be None\n",
      "  warnings.warn(\n",
      "181it [03:03,  1.02s/it]                         \n"
     ]
    }
   ],
   "source": [
    "samples = great.sample(n_samples, k=50, device=\"cuda\")"
   ]
  },
  {
   "cell_type": "code",
   "execution_count": 13,
   "id": "105aa225",
   "metadata": {},
   "outputs": [
    {
     "data": {
      "text/html": [
       "<div>\n",
       "<style scoped>\n",
       "    .dataframe tbody tr th:only-of-type {\n",
       "        vertical-align: middle;\n",
       "    }\n",
       "\n",
       "    .dataframe tbody tr th {\n",
       "        vertical-align: top;\n",
       "    }\n",
       "\n",
       "    .dataframe thead th {\n",
       "        text-align: right;\n",
       "    }\n",
       "</style>\n",
       "<table border=\"1\" class=\"dataframe\">\n",
       "  <thead>\n",
       "    <tr style=\"text-align: right;\">\n",
       "      <th></th>\n",
       "      <th>sepal length</th>\n",
       "      <th>sepal width</th>\n",
       "      <th>petal length</th>\n",
       "      <th>petal width</th>\n",
       "      <th>target</th>\n",
       "    </tr>\n",
       "  </thead>\n",
       "  <tbody>\n",
       "    <tr>\n",
       "      <th>0</th>\n",
       "      <td>5.0</td>\n",
       "      <td>3.6</td>\n",
       "      <td>0.5</td>\n",
       "      <td>0.0</td>\n",
       "      <td>0.0</td>\n",
       "    </tr>\n",
       "    <tr>\n",
       "      <th>1</th>\n",
       "      <td>5.0</td>\n",
       "      <td>3.0</td>\n",
       "      <td>1.8</td>\n",
       "      <td>0.8</td>\n",
       "      <td>0.0</td>\n",
       "    </tr>\n",
       "    <tr>\n",
       "      <th>2</th>\n",
       "      <td>5.3</td>\n",
       "      <td>2.8</td>\n",
       "      <td>3.3</td>\n",
       "      <td>1.2</td>\n",
       "      <td>0.0</td>\n",
       "    </tr>\n",
       "    <tr>\n",
       "      <th>3</th>\n",
       "      <td>6.1</td>\n",
       "      <td>2.7</td>\n",
       "      <td>4.3</td>\n",
       "      <td>1.5</td>\n",
       "      <td>2.0</td>\n",
       "    </tr>\n",
       "    <tr>\n",
       "      <th>4</th>\n",
       "      <td>6.3</td>\n",
       "      <td>2.6</td>\n",
       "      <td>4.6</td>\n",
       "      <td>1.8</td>\n",
       "      <td>1.0</td>\n",
       "    </tr>\n",
       "  </tbody>\n",
       "</table>\n",
       "</div>"
      ],
      "text/plain": [
       "   sepal length  sepal width  petal length  petal width  target\n",
       "0           5.0          3.6           0.5          0.0     0.0\n",
       "1           5.0          3.0           1.8          0.8     0.0\n",
       "2           5.3          2.8           3.3          1.2     0.0\n",
       "3           6.1          2.7           4.3          1.5     2.0\n",
       "4           6.3          2.6           4.6          1.8     1.0"
      ]
     },
     "execution_count": 13,
     "metadata": {},
     "output_type": "execute_result"
    }
   ],
   "source": [
    "samples.head()"
   ]
  },
  {
   "cell_type": "code",
   "execution_count": 18,
   "id": "c6f534d4",
   "metadata": {},
   "outputs": [],
   "source": [
    "samples.to_csv(\"iris_dpllmtgen_test.csv\")"
   ]
  },
  {
   "cell_type": "markdown",
   "id": "a3a734ac",
   "metadata": {},
   "source": [
    "We can also influence the distribution of the column on which the generation is conditioned (In the original dataset all three target values (0, 1, 2) have a probability of 33%)."
   ]
  },
  {
   "cell_type": "code",
   "execution_count": null,
   "id": "d6ada426",
   "metadata": {},
   "outputs": [],
   "source": [
    "samples_custom = great.sample(n_samples, k=50, start_col=\"target\",\n",
    "                              start_col_dist={\"0\": 0.5, \"1\": 0.5, \"2\": 0})"
   ]
  },
  {
   "cell_type": "code",
   "execution_count": null,
   "id": "3510fa2e",
   "metadata": {},
   "outputs": [],
   "source": [
    "samples_custom.head()"
   ]
  },
  {
   "cell_type": "markdown",
   "id": "70545fac",
   "metadata": {},
   "source": [
    "## Plot Data"
   ]
  },
  {
   "cell_type": "markdown",
   "id": "e3e051cc",
   "metadata": {},
   "source": [
    "Original Data"
   ]
  },
  {
   "cell_type": "code",
   "execution_count": 19,
   "id": "e70c4dfd",
   "metadata": {},
   "outputs": [
    {
     "data": {
      "text/plain": [
       "<matplotlib.collections.PathCollection at 0x7d21dab3d990>"
      ]
     },
     "execution_count": 19,
     "metadata": {},
     "output_type": "execute_result"
    },
    {
     "data": {
      "image/png": "[encoded data removed]",
      "text/plain": [
       "<Figure size 1200x400 with 2 Axes>"
      ]
     },
     "metadata": {},
     "output_type": "display_data"
    }
   ],
   "source": [
    "fig, ax = plt.subplots(1, 2, figsize=(12, 4))\n",
    "\n",
    "ax[0].scatter(data[\"sepal length\"], data[\"sepal width\"], c=data[\"target\"])\n",
    "ax[1].scatter(data[\"petal length\"], data[\"petal width\"], c=data[\"target\"])"
   ]
  },
  {
   "cell_type": "markdown",
   "id": "f56b0e03",
   "metadata": {},
   "source": [
    "Generated samples"
   ]
  },
  {
   "cell_type": "code",
   "execution_count": null,
   "id": "66d7efcc",
   "metadata": {},
   "outputs": [],
   "source": [
    "samples = pd.read_csv(\"iris_dpllmtgen_test.csv\")"
   ]
  },
  {
   "cell_type": "code",
   "execution_count": 14,
   "id": "96d782e2",
   "metadata": {},
   "outputs": [
    {
     "data": {
      "text/plain": [
       "<matplotlib.collections.PathCollection at 0x7f4f70ba6260>"
      ]
     },
     "execution_count": 14,
     "metadata": {},
     "output_type": "execute_result"
    },
    {
     "data": {
      "image/png": "[encoded data removed]",
      "text/plain": [
       "<Figure size 1200x400 with 2 Axes>"
      ]
     },
     "metadata": {},
     "output_type": "display_data"
    }
   ],
   "source": [
    "fig, ax = plt.subplots(1, 2, figsize=(12, 4))\n",
    "\n",
    "ax[0].scatter(samples[\"sepal length\"], samples[\"sepal width\"], c=samples[\"target\"].astype(\"int\"))\n",
    "ax[0].set_ylim(1.8, 4.5)\n",
    "ax[1].scatter(samples[\"petal length\"], samples[\"petal width\"], c=samples[\"target\"].astype(\"int\"))"
   ]
  },
  {
   "cell_type": "code",
   "execution_count": null,
   "id": "69639c1e",
   "metadata": {},
   "outputs": [],
   "source": []
  },
  {
   "cell_type": "code",
   "execution_count": null,
   "id": "20708e2c",
   "metadata": {},
   "outputs": [],
   "source": []
  }
 ],
 "metadata": {
  "kernelspec": {
   "display_name": "Python 3",
   "language": "python",
   "name": "python3"
  },
  "language_info": {
   "codemirror_mode": {
    "name": "ipython",
    "version": 3
   },
   "file_extension": ".py",
   "mimetype": "text/x-python",
   "name": "python",
   "nbconvert_exporter": "python",
   "pygments_lexer": "ipython3",
   "version": "3.10.12"
  }
 },
 "nbformat": 4,
 "nbformat_minor": 5
}
