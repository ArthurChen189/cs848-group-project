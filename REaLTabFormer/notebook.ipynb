{
 "cells": [
  {
   "cell_type": "markdown",
   "metadata": {},
   "source": [
    "Reproduction Notes:\n",
    "- use Python 3.7 to run the code\n",
    "- remove dirs_exist_ok=True in realtabformer.py\n",
    "\n"
   ]
  },
  {
   "cell_type": "code",
   "execution_count": 1,
   "metadata": {},
   "outputs": [
    {
     "name": "stderr",
     "output_type": "stream",
     "text": [
      "/fs01/home/arthur/micromamba/envs/cs848/lib/python3.7/site-packages/tqdm/auto.py:21: TqdmWarning: IProgress not found. Please update jupyter and ipywidgets. See https://ipywidgets.readthedocs.io/en/stable/user_install.html\n",
      "  from .autonotebook import tqdm as notebook_tqdm\n"
     ]
    }
   ],
   "source": [
    "# pip install realtabformer\n",
    "import os\n",
    "import pandas as pd\n",
    "from pathlib import Path\n",
    "from realtabformer import REaLTabFormer"
   ]
  },
  {
   "cell_type": "code",
   "execution_count": null,
   "metadata": {},
   "outputs": [],
   "source": [
    "# Non-relational or parent table. Don't include the unique_id field.\n",
    "parent_model = REaLTabFormer(model_type=\"tabular\", )\n",
    "pdir = Path(\"rtf_parent/\")\n",
    "parent_model.save(pdir)\n",
    "\n",
    "# # Get the most recently saved parent model,\n",
    "# # or a specify some other saved model.\n",
    "# parent_model_path = pdir / \"idXXX\"\n",
    "parent_model_path = sorted([\n",
    "    p for p in pdir.glob(\"id*\") if p.is_dir()],\n",
    "    key=os.path.getmtime)[-1]"
   ]
  },
  {
   "cell_type": "code",
   "execution_count": null,
   "metadata": {},
   "outputs": [],
   "source": [
    "# load the child model\n",
    "child_model = REaLTabFormer(\n",
    "    model_type=\"relational\",\n",
    "    parent_realtabformer_path=parent_model_path,\n",
    "    output_max_length=None,\n",
    "    train_size=0.8)\n",
    "\n",
    "child_model.fit(\n",
    "    df=child_df,\n",
    "    in_df=parent_df,\n",
    "    join_on=join_on)"
   ]
  },
  {
   "cell_type": "code",
   "execution_count": null,
   "metadata": {},
   "outputs": [],
   "source": [
    "# Generate parent samples.\n",
    "parent_samples = parent_model.sample(len(parent_df))\n",
    "\n",
    "# Create the unique ids based on the index.\n",
    "parent_samples.index.name = join_on\n",
    "parent_samples = parent_samples.reset_index()\n",
    "\n",
    "# Generate the relational observations.\n",
    "child_samples = child_model.sample(\n",
    "    input_unique_ids=parent_samples[join_on],\n",
    "    input_df=parent_samples.drop(join_on, axis=1),\n",
    "    gen_batch=64)"
   ]
  }
 ],
 "metadata": {
  "kernelspec": {
   "display_name": "Python 3",
   "language": "python",
   "name": "python3"
  },
  "language_info": {
   "codemirror_mode": {
    "name": "ipython",
    "version": 3
   },
   "file_extension": ".py",
   "mimetype": "text/x-python",
   "name": "python",
   "nbconvert_exporter": "python",
   "pygments_lexer": "ipython3",
   "version": "3.7.12"
  }
 },
 "nbformat": 4,
 "nbformat_minor": 2
}
