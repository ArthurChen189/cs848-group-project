{
 "cells": [
  {
   "cell_type": "markdown",
   "metadata": {},
   "source": [
    "## Data pre-processing\n",
    "We follow the data-preprocessing steps described in the [REaLTabFormer](https://arxiv.org/pdf/2302.02041#page=12.08) paper.\n",
    "> For the Rossmann dataset, we used 80% of the stores data and their associated sales records for our training data. We used the remaining stores as the test data. We also limit the data used in the experiments from 2015-06 onwards spanning 2 months of sales data per store.\n"
   ]
  },
  {
   "cell_type": "markdown",
   "metadata": {},
   "source": [
    "## Training a downstream model\n",
    "we load the synthesized private data for training a downstream model. We want to evaluate:\n",
    "- logistic detection (LD) performance for relational data\n",
    "- $F_1$ and $R^2$ score for non-relational data"
   ]
  },
  {
   "cell_type": "code",
   "execution_count": null,
   "metadata": {},
   "outputs": [],
   "source": [
    "import pandas as pd\n",
    "\n",
    "# load the data\n",
    "all_table = pd.read_csv('./synthesized/all_table.csv')\n",
    "parent_table = pd.read_csv('./synthesized/parent_table.csv')\n",
    "\n",
    "# we sample 80% of the stores data and their associated sales records in train data for training\n",
    "train_parent_table = parent_table.sample(frac=0.8, random_state=0)\n",
    "test_parent_table = parent_table.drop(train_parent_table.index)\n",
    "\n",
    "# we get our new training data and test data\n",
    "train_table = all_table[all_table['Store'].isin(train_parent_table['Store'])]\n",
    "test_table = all_table[all_table['Store'].isin(test_parent_table['Store'])]\n",
    "\n",
    "ratio = len(train_parent_table) / len(parent_table)\n",
    "ratio_train = len(train_table) / len(all_table)\n",
    "assert ratio > 0.7 and ratio < 0.9\n",
    "assert ratio_train > 0.7 and ratio_train < 0.9\n",
    "print(f\"ratio of train parent data to all data: {ratio}\")\n",
    "print(f\"ratio of train data to all data: {ratio_train}\")\n"
   ]
  }
 ],
 "metadata": {
  "kernelspec": {
   "display_name": "cs848",
   "language": "python",
   "name": "python3"
  },
  "language_info": {
   "codemirror_mode": {
    "name": "ipython",
    "version": 3
   },
   "file_extension": ".py",
   "mimetype": "text/x-python",
   "name": "python",
   "nbconvert_exporter": "python",
   "pygments_lexer": "ipython3",
   "version": "3.7.12"
  }
 },
 "nbformat": 4,
 "nbformat_minor": 2
}
